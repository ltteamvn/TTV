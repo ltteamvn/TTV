{
  "cells": [
    {
      "cell_type": "markdown",
      "metadata": {
        "id": "zgi_Gt_xsy--"
      },
      "source": [
        "# Hướng dẫn thiết lập LTTEAM Free Video\n",
        "\n",
        "Sổ tay này sẽ hướng dẫn bạn qua quá trình thiết lập [LTTEAM Free Video](https://github.com/ltteamvn/TTV.git)."
      ]
    },
    {
      "cell_type": "markdown",
      "metadata": {
        "id": "Hqhfe7KHsy_A"
      },
      "source": [
        "## 1. Sao chép kho lưu trữ và cài đặt các phụ thuộc\n",
        "\n",
        "Đầu tiên, chúng ta sẽ sao chép kho lưu trữ từ GitHub và cài đặt tất cả các gói cần thiết:"
      ]
    },
    {
      "cell_type": "code",
      "execution_count": null,
      "metadata": {
        "id": "S8Eu-aQarY_B"
      },
      "outputs": [],
      "source": [
        "!git clone https://github.com/ltteamvn/TTV.git\n",
        "%cd TTV\n",
        "!pip install -q -r requirements.txt\n",
        "!pip install pyngrok --quiet"
      ]
    },
    {
      "cell_type": "markdown",
      "metadata": {
        "id": "vIGFFID1sy_B"
      },
      "source": [
        "## 2. Cấu hình ngrok để truy cập từ xa\n",
        "\n",
        "Chúng tôi sẽ sử dụng ngrok để tạo đường hầm an toàn nhằm đưa máy chủ Streamlit cục bộ của chúng tôi ra internet.\n",
        "\n",
        "**Chú ý**: Bạn cần lấy mã token của mình từ [ngrok dashboard](https://dashboard.ngrok.com/get-started/your-authtoken) để sử dụng dịch vụ này."
      ]
    },
    {
      "cell_type": "code",
      "execution_count": null,
      "metadata": {
        "id": "Y0sBbBZisy_C"
      },
      "outputs": [],
      "source": [
        "from pyngrok import ngrok\n",
        "\n",
        "# Terminate any existing ngrok tunnels\n",
        "ngrok.kill()\n",
        "\n",
        "# Set your authentication token\n",
        "# Replace \"your_ngrok_auth_token\" with your actual token\n",
        "ngrok.set_auth_token(\"2zRIESnj7a6QV2zSshvWLBt4YgP_XhfBafGPy8qW2erwmwkH\")"
      ]
    },
    {
      "cell_type": "markdown",
      "metadata": {
        "id": "ecg30-J8sy_C"
      },
      "source": [
        "## 3. Khởi chạy ứng dụng và tạo URL công khai\n",
        "\n",
        "Bây giờ chúng ta sẽ khởi động máy chủ Streamlit và tạo đường hầm ngrok để có thể truy cập trực tuyến:"
      ]
    },
    {
      "cell_type": "code",
      "execution_count": null,
      "metadata": {
        "collapsed": true,
        "id": "oahsIOXmwjl9"
      },
      "outputs": [],
      "source": [
        "import subprocess\n",
        "import time\n",
        "\n",
        "print(\"🚀 Khởi động LTTEAM Free Video...\")\n",
        "# Start Streamlit server on port 8501\n",
        "streamlit_proc = subprocess.Popen([\n",
        "    \"streamlit\", \"run\", \"./webui/Main.py\", \"--server.port=1998\"\n",
        "])\n",
        "\n",
        "# Wait for the server to initialize\n",
        "time.sleep(5)\n",
        "\n",
        "print(\"🌐 Tạo đường hầm ngrok để hiển thị LTTEAM Free Video...\")\n",
        "public_url = ngrok.connect(1998, bind_tls=True)\n",
        "\n",
        "print(\"✅ Triển khai hoàn tất! Truy cập LTTEAM Free Video của bạn tại:\")\n",
        "print(public_url)"
      ]
    }
  ],
  "metadata": {
    "colab": {
      "provenance": [],
      "gpuType": "T4"
    },
    "kernelspec": {
      "display_name": "Python 3",
      "name": "python3"
    },
    "language_info": {
      "name": "python"
    },
    "accelerator": "GPU"
  },
  "nbformat": 4,
  "nbformat_minor": 0
}
